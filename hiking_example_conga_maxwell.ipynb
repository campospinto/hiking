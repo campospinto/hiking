{
 "cells": [
  {
   "cell_type": "code",
   "execution_count": 1,
   "metadata": {},
   "outputs": [
    {
     "ename": "ModuleNotFoundError",
     "evalue": "No module named 'hiking.spl'",
     "output_type": "error",
     "traceback": [
      "\u001b[0;31m---------------------------------------------------------------------------\u001b[0m",
      "\u001b[0;31mModuleNotFoundError\u001b[0m                       Traceback (most recent call last)",
      "\u001b[0;32m<ipython-input-1-132097fbaf27>\u001b[0m in \u001b[0;36m<module>\u001b[0;34m()\u001b[0m\n\u001b[1;32m      1\u001b[0m \u001b[0;32mimport\u001b[0m \u001b[0mnumpy\u001b[0m \u001b[0;32mas\u001b[0m \u001b[0mnp\u001b[0m\u001b[0;34m\u001b[0m\u001b[0m\n\u001b[0;32m----> 2\u001b[0;31m \u001b[0;32mfrom\u001b[0m \u001b[0mhiking\u001b[0m\u001b[0;34m.\u001b[0m\u001b[0mspl\u001b[0m \u001b[0;32mimport\u001b[0m \u001b[0mCartesianMesh\u001b[0m\u001b[0;34m,\u001b[0m \u001b[0mDeRhamSequence\u001b[0m\u001b[0;34m\u001b[0m\u001b[0m\n\u001b[0m\u001b[1;32m      3\u001b[0m \u001b[0;34m\u001b[0m\u001b[0m\n\u001b[1;32m      4\u001b[0m \u001b[0;31m# space domain\u001b[0m\u001b[0;34m\u001b[0m\u001b[0;34m\u001b[0m\u001b[0m\n\u001b[1;32m      5\u001b[0m \u001b[0mnc\u001b[0m \u001b[0;34m=\u001b[0m \u001b[0;36m100\u001b[0m\u001b[0;34m\u001b[0m\u001b[0m\n",
      "\u001b[0;31mModuleNotFoundError\u001b[0m: No module named 'hiking.spl'"
     ]
    }
   ],
   "source": [
    "import numpy as np\n",
    "from hiking.spl import CartesianMesh, DeRhamSequence\n",
    "\n",
    "# space domain\n",
    "nc = 100\n",
    "cart_mesh_1 = CartesianMesh(\n",
    "    x_min=0, x_max=1, n_cells_x=nc, \n",
    "    y_min=0, y_max=1, n_cells_y=nc,\n",
    ")\n",
    "fm = 1  # edge 1 on axis 0 (right)  //  edge 1 on axis 1 would be 3\n",
    "cart_mesh_2 = CartesianMesh(\n",
    "    x_min=1, x_max=2, n_cells_x=nc, \n",
    "    y_min=0, y_max=1, n_cells_y=nc,\n",
    ")\n",
    "fs = 0  # edge 0 on axis 0 (left)\n",
    "chart = ChartMesh(\n",
    "    cart_mesh_1, cart_mesh_2, \n",
    "    connectivity={\n",
    "        (0,fm):(1,fs)\n",
    "    } \n",
    ")\n",
    "\n",
    "# time domain\n",
    "omega = 1.\n",
    "T_final = 1.\n",
    "N_steps = 50\n",
    "dt = T_final/N_steps\n"
   ]
  },
  {
   "cell_type": "code",
   "execution_count": 2,
   "metadata": {},
   "outputs": [
    {
     "ename": "NameError",
     "evalue": "name 'DeRhamSequence' is not defined",
     "output_type": "error",
     "traceback": [
      "\u001b[0;31m---------------------------------------------------------------------------\u001b[0m",
      "\u001b[0;31mNameError\u001b[0m                                 Traceback (most recent call last)",
      "\u001b[0;32m<ipython-input-2-2c25c670576e>\u001b[0m in \u001b[0;36m<module>\u001b[0;34m()\u001b[0m\n\u001b[1;32m      1\u001b[0m \u001b[0;31m# sequence of Fem space\u001b[0m\u001b[0;34m\u001b[0m\u001b[0;34m\u001b[0m\u001b[0m\n\u001b[0;32m----> 2\u001b[0;31m drs = DeRhamSequence(\n\u001b[0m\u001b[1;32m      3\u001b[0m     \u001b[0mmesh\u001b[0m\u001b[0;34m=\u001b[0m\u001b[0mchart\u001b[0m\u001b[0;34m,\u001b[0m\u001b[0;34m\u001b[0m\u001b[0m\n\u001b[1;32m      4\u001b[0m     \u001b[0mbroken_spaces\u001b[0m\u001b[0;34m=\u001b[0m\u001b[0;34m[\u001b[0m\u001b[0;34m'V1'\u001b[0m\u001b[0;34m]\u001b[0m\u001b[0;34m,\u001b[0m\u001b[0;34m\u001b[0m\u001b[0m\n\u001b[1;32m      5\u001b[0m     \u001b[0msmoothing_projection\u001b[0m\u001b[0;34m=\u001b[0m\u001b[0;34m'ps_spline'\u001b[0m\u001b[0;34m,\u001b[0m\u001b[0;34m\u001b[0m\u001b[0m\n",
      "\u001b[0;31mNameError\u001b[0m: name 'DeRhamSequence' is not defined"
     ]
    }
   ],
   "source": [
    "# sequence of Fem space \n",
    "drs = DeRhamSequence(\n",
    "    mesh=chart,\n",
    "    broken_spaces=['V1'], \n",
    "    smoothing_projection='ps_spline',\n",
    "    fem_kind='tensor_spline',\n",
    "    seq_kind='grad-curl',\n",
    "    degree=3,\n",
    ")"
   ]
  },
  {
   "cell_type": "code",
   "execution_count": 3,
   "metadata": {},
   "outputs": [
    {
     "ename": "NameError",
     "evalue": "name 'FemField' is not defined",
     "output_type": "error",
     "traceback": [
      "\u001b[0;31m---------------------------------------------------------------------------\u001b[0m",
      "\u001b[0;31mNameError\u001b[0m                                 Traceback (most recent call last)",
      "\u001b[0;32m<ipython-input-3-dfca8622db8d>\u001b[0m in \u001b[0;36m<module>\u001b[0;34m()\u001b[0m\n\u001b[1;32m      1\u001b[0m \u001b[0;31m# define fields (initialized at 0)\u001b[0m\u001b[0;34m\u001b[0m\u001b[0;34m\u001b[0m\u001b[0m\n\u001b[0;32m----> 2\u001b[0;31m \u001b[0mE\u001b[0m \u001b[0;34m=\u001b[0m \u001b[0mFemField\u001b[0m\u001b[0;34m(\u001b[0m\u001b[0mdrs\u001b[0m\u001b[0;34m[\u001b[0m\u001b[0;34m'V1'\u001b[0m\u001b[0;34m]\u001b[0m\u001b[0;34m,\u001b[0m \u001b[0;34m'E'\u001b[0m\u001b[0;34m)\u001b[0m\u001b[0;34m\u001b[0m\u001b[0m\n\u001b[0m\u001b[1;32m      3\u001b[0m \u001b[0mB\u001b[0m \u001b[0;34m=\u001b[0m \u001b[0mFemField\u001b[0m\u001b[0;34m(\u001b[0m\u001b[0mdrs\u001b[0m\u001b[0;34m[\u001b[0m\u001b[0;34m'V2'\u001b[0m\u001b[0;34m]\u001b[0m\u001b[0;34m,\u001b[0m \u001b[0;34m'B'\u001b[0m\u001b[0;34m)\u001b[0m\u001b[0;34m\u001b[0m\u001b[0m\n\u001b[1;32m      4\u001b[0m \u001b[0mJ\u001b[0m \u001b[0;34m=\u001b[0m \u001b[0mFemField\u001b[0m\u001b[0;34m(\u001b[0m\u001b[0mdrs\u001b[0m\u001b[0;34m[\u001b[0m\u001b[0;34m'V1'\u001b[0m\u001b[0;34m]\u001b[0m\u001b[0;34m,\u001b[0m \u001b[0;34m'J'\u001b[0m\u001b[0;34m)\u001b[0m\u001b[0;34m\u001b[0m\u001b[0m\n\u001b[1;32m      5\u001b[0m \u001b[0;34m\u001b[0m\u001b[0m\n",
      "\u001b[0;31mNameError\u001b[0m: name 'FemField' is not defined"
     ]
    }
   ],
   "source": [
    "# define fields (initialized at 0)\n",
    "E = FemField(drs['V1'], 'E')\n",
    "B = FemField(drs['V2'], 'B')\n",
    "J = FemField(drs['V1'], 'J')\n",
    "\n",
    "curl_B = FemField(drs['V1'], 'curl_B')\n",
    "curl_E = FemField(drs['V2'], 'curl_E')\n",
    "\n",
    "# discrete operators (here in native format but can be exported as scipy matrices)\n",
    "curl_1 = drs.diff_operator('V1')\n",
    "curl_2 = drs.sdiff_operator('V2')\n",
    "\n",
    "# exact source (Issautier test case)\n",
    "pi = np.pi\n",
    "J_ex = lambda t,x,y: [ \n",
    "    ( np.cos(omega*t)-1 ) * ( pi*np.cos(pi*x)+(pi**2)*x*np.sin(pi*y) ) - (omega**2)*np.cos(omega*t)*x*np.sin(pi*y),\n",
    "    ( np.cos(omega*t)-1 ) * ( pi*np.cos(pi*y)+(pi**2)*y*np.sin(pi*x) ) - (omega**2)*np.cos(omega*t)*y*np.sin(pi*x)\n",
    "]\n"
   ]
  },
  {
   "cell_type": "code",
   "execution_count": 4,
   "metadata": {},
   "outputs": [
    {
     "ename": "NameError",
     "evalue": "name 'N_steps' is not defined",
     "output_type": "error",
     "traceback": [
      "\u001b[0;31m---------------------------------------------------------------------------\u001b[0m",
      "\u001b[0;31mNameError\u001b[0m                                 Traceback (most recent call last)",
      "\u001b[0;32m<ipython-input-4-c693ed18f479>\u001b[0m in \u001b[0;36m<module>\u001b[0;34m()\u001b[0m\n\u001b[1;32m      1\u001b[0m \u001b[0;31m# time loop\u001b[0m\u001b[0;34m\u001b[0m\u001b[0;34m\u001b[0m\u001b[0m\n\u001b[0;32m----> 2\u001b[0;31m \u001b[0;32mfor\u001b[0m \u001b[0mnt\u001b[0m \u001b[0;32min\u001b[0m \u001b[0mrange\u001b[0m\u001b[0;34m(\u001b[0m\u001b[0mN_steps\u001b[0m\u001b[0;34m)\u001b[0m\u001b[0;34m:\u001b[0m\u001b[0;34m\u001b[0m\u001b[0m\n\u001b[0m\u001b[1;32m      3\u001b[0m \u001b[0;34m\u001b[0m\u001b[0m\n\u001b[1;32m      4\u001b[0m     \u001b[0mJ_ex_tn\u001b[0m \u001b[0;34m=\u001b[0m \u001b[0;32mlambda\u001b[0m \u001b[0mx\u001b[0m\u001b[0;34m,\u001b[0m\u001b[0my\u001b[0m \u001b[0;34m:\u001b[0m \u001b[0mJ_ex\u001b[0m\u001b[0;34m(\u001b[0m\u001b[0mnt\u001b[0m\u001b[0;34m*\u001b[0m\u001b[0mdt\u001b[0m\u001b[0;34m,\u001b[0m\u001b[0mx\u001b[0m\u001b[0;34m,\u001b[0m\u001b[0my\u001b[0m\u001b[0;34m)\u001b[0m\u001b[0;34m\u001b[0m\u001b[0m\n\u001b[1;32m      5\u001b[0m     \u001b[0mdrs\u001b[0m\u001b[0;34m.\u001b[0m\u001b[0mproj\u001b[0m\u001b[0;34m(\u001b[0m\u001b[0mJ_ex_tn\u001b[0m\u001b[0;34m,\u001b[0m \u001b[0mJ\u001b[0m\u001b[0;34m)\u001b[0m\u001b[0;34m\u001b[0m\u001b[0m\n",
      "\u001b[0;31mNameError\u001b[0m: name 'N_steps' is not defined"
     ]
    }
   ],
   "source": [
    "# time loop\n",
    "for nt in range(N_steps):\n",
    "    \n",
    "    J_ex_tn = lambda x,y : J_ex(nt*dt,x,y)\n",
    "    drs.proj(J_ex_tn, J)\n",
    "    \n",
    "    curl_1(E, curl_E)    \n",
    "    B.update(-dt*curl_E)  # B = B - dt*curl_E\n",
    "\n",
    "    curl_2(B, curl_B)    \n",
    "    E.update(dt*(curl_B-J_n))  # E = E + dt*(curl_B-J_n)\n",
    "\n",
    "drs.plot_field()\n",
    "\n"
   ]
  },
  {
   "cell_type": "code",
   "execution_count": null,
   "metadata": {},
   "outputs": [],
   "source": []
  }
 ],
 "metadata": {
  "kernelspec": {
   "display_name": "Python 3",
   "language": "python",
   "name": "python3"
  },
  "language_info": {
   "codemirror_mode": {
    "name": "ipython",
    "version": 3
   },
   "file_extension": ".py",
   "mimetype": "text/x-python",
   "name": "python",
   "nbconvert_exporter": "python",
   "pygments_lexer": "ipython3",
   "version": "3.6.4"
  }
 },
 "nbformat": 4,
 "nbformat_minor": 2
}
