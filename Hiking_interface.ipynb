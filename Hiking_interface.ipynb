{
 "cells": [
  {
   "cell_type": "markdown",
   "metadata": {},
   "source": [
    "First create a mesh"
   ]
  },
  {
   "cell_type": "code",
   "execution_count": null,
   "metadata": {
    "collapsed": false
   },
   "outputs": [
    {
     "ename": "NameError",
     "evalue": "name 'CartesianMesh' is not defined",
     "traceback": [
      "\u001b[0;31m---------------------------------------------------------------------------\u001b[0m",
      "\u001b[0;31mNameError\u001b[0m                                 Traceback (most recent call last)",
      "\u001b[0;32m<ipython-input-1-0ea0780d6916>\u001b[0m in \u001b[0;36m<module>\u001b[0;34m()\u001b[0m\n\u001b[1;32m      1\u001b[0m \u001b[0mnc\u001b[0m \u001b[0;34m=\u001b[0m \u001b[0;36m100\u001b[0m\u001b[0;34m\u001b[0m\u001b[0m\n\u001b[0;32m----> 2\u001b[0;31m cart_mesh = CartesianMesh(\n\u001b[0m\u001b[1;32m      3\u001b[0m     \u001b[0mx_min\u001b[0m\u001b[0;34m=\u001b[0m\u001b[0;36m0\u001b[0m\u001b[0;34m,\u001b[0m \u001b[0mx_max\u001b[0m\u001b[0;34m=\u001b[0m\u001b[0;36m1\u001b[0m\u001b[0;34m,\u001b[0m \u001b[0mn_cells_x\u001b[0m\u001b[0;34m=\u001b[0m\u001b[0mnc\u001b[0m\u001b[0;34m,\u001b[0m\u001b[0;34m\u001b[0m\u001b[0m\n\u001b[1;32m      4\u001b[0m     \u001b[0my_min\u001b[0m\u001b[0;34m=\u001b[0m\u001b[0;36m0\u001b[0m\u001b[0;34m,\u001b[0m \u001b[0my_max\u001b[0m\u001b[0;34m=\u001b[0m\u001b[0;36m1\u001b[0m\u001b[0;34m,\u001b[0m \u001b[0mn_cells_y\u001b[0m\u001b[0;34m=\u001b[0m\u001b[0mnc\u001b[0m\u001b[0;34m,\u001b[0m\u001b[0;34m\u001b[0m\u001b[0m\n\u001b[1;32m      5\u001b[0m )   \n",
      "\u001b[0;31mNameError\u001b[0m: name 'CartesianMesh' is not defined"
     ],
     "output_type": "error"
    }
   ],
   "source": [
    "from hiking.coffee import DeRhamSequence\n",
    "from scipy.sparse.linalg import spsolve\n",
    "\n",
    "\n",
    "nc = 100\n",
    "cart_mesh = CartesianMesh(\n",
    "    x_min=0, x_max=1, n_cells_x=nc, \n",
    "    y_min=0, y_max=1, n_cells_y=nc,\n",
    "    x_periodic=True,\n",
    ")   "
   ]
  },
  {
   "cell_type": "markdown",
   "metadata": {},
   "source": [
    "Example of a Poisson solver."
   ]
  },
  {
   "cell_type": "code",
   "execution_count": 3,
   "metadata": {
    "collapsed": true
   },
   "outputs": [
    {
     "ename": "NameError",
     "evalue": "name 'DeRhamSequence' is not defined",
     "traceback": [
      "\u001b[0;31m---------------------------------------------------------------------------\u001b[0m",
      "\u001b[0;31mNameError\u001b[0m                                 Traceback (most recent call last)",
      "\u001b[0;32m<ipython-input-3-dfd3832af900>\u001b[0m in \u001b[0;36m<module>\u001b[0;34m()\u001b[0m\n\u001b[0;32m----> 1\u001b[0;31m drs = DeRhamSequence(\n\u001b[0m\u001b[1;32m      2\u001b[0m     \u001b[0mmesh\u001b[0m\u001b[0;34m=\u001b[0m\u001b[0mcart_mesh\u001b[0m\u001b[0;34m,\u001b[0m\u001b[0;34m\u001b[0m\u001b[0m\n\u001b[1;32m      3\u001b[0m     \u001b[0mfem_kind\u001b[0m\u001b[0;34m=\u001b[0m\u001b[0;34m'triangle_fem'\u001b[0m\u001b[0;34m,\u001b[0m   \u001b[0;31m# or 'tensor_spline'\u001b[0m\u001b[0;34m\u001b[0m\u001b[0m\n\u001b[1;32m      4\u001b[0m     \u001b[0mseq_kind\u001b[0m\u001b[0;34m=\u001b[0m\u001b[0;34m'grad-curl'\u001b[0m\u001b[0;34m,\u001b[0m\u001b[0;34m\u001b[0m\u001b[0m\n\u001b[1;32m      5\u001b[0m     \u001b[0mdegree\u001b[0m\u001b[0;34m=\u001b[0m\u001b[0;36m3\u001b[0m\u001b[0;34m,\u001b[0m\u001b[0;34m\u001b[0m\u001b[0m\n",
      "\u001b[0;31mNameError\u001b[0m: name 'DeRhamSequence' is not defined"
     ],
     "output_type": "error"
    }
   ],
   "source": [
    "drs = DeRhamSequence(\n",
    "    mesh=cart_mesh,\n",
    "    fem_kind='triangle_fem',   # or 'tensor_spline'\n",
    "    seq_kind='grad-curl',\n",
    "    degree=3,\n",
    ")"
   ]
  },
  {
   "cell_type": "code",
   "execution_count": 4,
   "metadata": {
    "collapsed": true
   },
   "outputs": [
    {
     "ename": "NameError",
     "evalue": "name 'drs' is not defined",
     "traceback": [
      "\u001b[0;31m---------------------------------------------------------------------------\u001b[0m",
      "\u001b[0;31mNameError\u001b[0m                                 Traceback (most recent call last)",
      "\u001b[0;32m<ipython-input-4-661b8d9a4828>\u001b[0m in \u001b[0;36m<module>\u001b[0;34m()\u001b[0m\n\u001b[0;32m----> 1\u001b[0;31m \u001b[0mV0\u001b[0m \u001b[0;34m=\u001b[0m \u001b[0mdrs\u001b[0m\u001b[0;34m[\u001b[0m\u001b[0;34m'V0'\u001b[0m\u001b[0;34m]\u001b[0m\u001b[0;34m\u001b[0m\u001b[0m\n\u001b[0m",
      "\u001b[0;31mNameError\u001b[0m: name 'drs' is not defined"
     ],
     "output_type": "error"
    }
   ],
   "source": [
    "V0 = drs['V0']\n",
    "phi = FemField(V0, 'phi')\n",
    "rho = lambda x,y: x*(1-y)\n",
    "g = lambda x,y: 1  # dirichlet bc\n"
   ]
  },
  {
   "cell_type": "code",
   "execution_count": 5,
   "metadata": {
    "collapsed": true
   },
   "outputs": [
    {
     "ename": "NameError",
     "evalue": "name 'V0' is not defined",
     "traceback": [
      "\u001b[0;31m---------------------------------------------------------------------------\u001b[0m",
      "\u001b[0;31mNameError\u001b[0m                                 Traceback (most recent call last)",
      "\u001b[0;32m<ipython-input-5-674cf4712791>\u001b[0m in \u001b[0;36m<module>\u001b[0;34m()\u001b[0m\n\u001b[1;32m      1\u001b[0m \u001b[0;34m\u001b[0m\u001b[0m\n\u001b[1;32m      2\u001b[0m \u001b[0;31m# prepare the linear system Ax = b\u001b[0m\u001b[0;34m\u001b[0m\u001b[0;34m\u001b[0m\u001b[0m\n\u001b[0;32m----> 3\u001b[0;31m \u001b[0mA\u001b[0m \u001b[0;34m=\u001b[0m \u001b[0mV0\u001b[0m\u001b[0;34m.\u001b[0m\u001b[0mstiffness_matrix\u001b[0m\u001b[0;34m\u001b[0m\u001b[0m\n\u001b[0m\u001b[1;32m      4\u001b[0m \u001b[0mb\u001b[0m \u001b[0;34m=\u001b[0m \u001b[0mV0\u001b[0m\u001b[0;34m.\u001b[0m\u001b[0mcompute_moments\u001b[0m\u001b[0;34m(\u001b[0m\u001b[0mrho\u001b[0m\u001b[0;34m)\u001b[0m\u001b[0;34m\u001b[0m\u001b[0m\n\u001b[1;32m      5\u001b[0m \u001b[0;34m\u001b[0m\u001b[0m\n",
      "\u001b[0;31mNameError\u001b[0m: name 'V0' is not defined"
     ],
     "output_type": "error"
    }
   ],
   "source": [
    "\n",
    "# prepare the linear system Ax = b\n",
    "A = V0.stiffness_matrix\n",
    "b = V0.compute_moments(rho)\n",
    "\n",
    "# Dirichlet bc by penalization\n",
    "dirichlet_dof_labels = ['north', 'south']\n",
    "P = V0.penalization_matrix(dof_labels=dirichlet_dof_labels)  # or another method ?\n",
    "b_bc = V0.compute_dofs(g, dof_labels=dirichlet_dof_labels)\n",
    "\n",
    "# convert to scipy format and solve \n",
    "As = A.tocoo()\n",
    "Ps = P.tocoo()\n",
    "bs = b.toarray()\n",
    "bs_bc = b_bc.toarray()\n",
    "xs = spsolve( As+Ps, bs+Ps.dot(bs_bc) )\n",
    "\n",
    "# update the fem field with the solution\n",
    "phi.set_coeffs( xs )\n"
   ]
  },
  {
   "cell_type": "code",
   "execution_count": null,
   "metadata": {},
   "outputs": [],
   "source": []
  }
 ],
 "metadata": {
  "kernelspec": {
   "display_name": "Python 2",
   "language": "python",
   "name": "python2"
  },
  "language_info": {
   "codemirror_mode": {
    "name": "ipython",
    "version": 2
   },
   "file_extension": ".py",
   "mimetype": "text/x-python",
   "name": "python",
   "nbconvert_exporter": "python",
   "pygments_lexer": "ipython2",
   "version": "2.7.14"
  }
 },
 "nbformat": 4,
 "nbformat_minor": 2
}
